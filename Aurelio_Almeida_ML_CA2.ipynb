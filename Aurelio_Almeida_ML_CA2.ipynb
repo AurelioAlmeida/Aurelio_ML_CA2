{
 "cells": [
  {
   "cell_type": "markdown",
   "id": "fad6e33a",
   "metadata": {},
   "source": [
    "**1. Neural Networks**"
   ]
  },
  {
   "cell_type": "markdown",
   "id": "05cfce7c",
   "metadata": {},
   "source": [
    "*Installing the needed libraries*"
   ]
  },
  {
   "cell_type": "code",
   "execution_count": null,
   "id": "54c8697b",
   "metadata": {},
   "outputs": [],
   "source": [
    "pip install pandas scikit-learn tensorflow"
   ]
  },
  {
   "cell_type": "markdown",
   "id": "cc5b0a5e",
   "metadata": {},
   "source": [
    "importing the libraries"
   ]
  },
  {
   "cell_type": "code",
   "execution_count": null,
   "id": "1c75cda9",
   "metadata": {},
   "outputs": [],
   "source": [
    "import pandas as pd\n",
    "from sklearn.model_selection import train_test_split\n",
    "from sklearn.preprocessing import StandardScaler, OneHotEncoder\n",
    "from sklearn.compose import ColumnTransformer\n",
    "from tensorflow.keras.models import Sequential\n",
    "from tensorflow.keras.layers import Dense\n",
    "from tensorflow.keras.layers import Input\n",
    "from sklearn.linear_model import LinearRegression\n",
    "from sklearn.metrics import mean_squared_error, r2_score"
   ]
  },
  {
   "cell_type": "markdown",
   "id": "edb0116f",
   "metadata": {},
   "source": [
    "Step 1: Data Preparation"
   ]
  },
  {
   "cell_type": "code",
   "execution_count": null,
   "id": "d713beac",
   "metadata": {},
   "outputs": [],
   "source": [
    "## Load the dataset\n",
    "data = pd.read_csv('BankRecords.csv')\n",
    "\n",
    "## # Display the first few rows of the dataset\n",
    "print(data.head())\n",
    "\n",
    "# Display information about the dataset\n",
    "print(data.info())\n",
    "\n",
    "# Define numeric features for scaling\n",
    "numeric_features = ['Age', 'Experience(Years)', 'Family', 'Credit Score', 'Mortgage(Thousands\\'s)']\n",
    "\n",
    "# Fill missing values in numeric features with the mean value of each column\n",
    "data[numeric_features] = data[numeric_features].fillna(data[numeric_features].mean())\n",
    "\n",
    "# Define categorical features for one-hot encoding\n",
    "categorical_features = ['Education', 'Personal Loan', 'Securities Account', 'CD Account', 'Online Banking', 'CreditCard']\n",
    "\n",
    "# Create a preprocessor with transformers for numeric and categorical features\n",
    "preprocessor = ColumnTransformer(\n",
    "    transformers=[\n",
    "        ('num', StandardScaler(), numeric_features),\n",
    "        ('cat', OneHotEncoder(), categorical_features)\n",
    "    ])\n",
    "\n",
    "# Define the feature matrix (X) and target vector (y)\n",
    "X = data.drop(['ID', 'Income(Thousands\\'s)'], axis=1)\n",
    "y = data['Income(Thousands\\'s)']\n",
    "\n",
    "# Apply the transformations to the feature matrix\n",
    "X = preprocessor.fit_transform(X)\n",
    "\n",
    "# Split the dataset into training and testing sets\n",
    "X_train, X_test, y_train, y_test = train_test_split(X, y, test_size=0.2, random_state=42)"
   ]
  },
  {
   "cell_type": "markdown",
   "id": "91c1be05",
   "metadata": {},
   "source": [
    "Step 2: Model Implementation"
   ]
  },
  {
   "cell_type": "code",
   "execution_count": null,
   "id": "a46df61c",
   "metadata": {},
   "outputs": [],
   "source": [
    "# Define the Neural Network model\n",
    "nn_model = Sequential([\n",
    "    Input(shape=X_train.shape[1:]), \n",
    "    Dense(64, activation='relu'),   \n",
    "    Dense(64, activation='relu'),    \n",
    "    Dense(1)                         \n",
    "])\n",
    "\n",
    "# Compile the Neural Network model\n",
    "nn_model.compile(optimizer='adam', loss='mse')\n",
    "\n",
    "# Train the Neural Network model\n",
    "nn_model.fit(X_train, y_train, epochs=10, batch_size=32, validation_split=0.2, verbose=1)\n",
    "\n",
    "# Define and train the Linear Regression model\n",
    "lr_model = LinearRegression()\n",
    "lr_model.fit(X_train, y_train)"
   ]
  },
  {
   "cell_type": "markdown",
   "id": "e457854b",
   "metadata": {},
   "source": [
    "Step 3: Model Evaluation and Comparison"
   ]
  },
  {
   "cell_type": "code",
   "execution_count": null,
   "id": "342a4d8c",
   "metadata": {},
   "outputs": [],
   "source": []
  }
 ],
 "metadata": {
  "kernelspec": {
   "display_name": "Python 3 (ipykernel)",
   "language": "python",
   "name": "python3"
  },
  "language_info": {
   "codemirror_mode": {
    "name": "ipython",
    "version": 3
   },
   "file_extension": ".py",
   "mimetype": "text/x-python",
   "name": "python",
   "nbconvert_exporter": "python",
   "pygments_lexer": "ipython3",
   "version": "3.9.12"
  }
 },
 "nbformat": 4,
 "nbformat_minor": 5
}
